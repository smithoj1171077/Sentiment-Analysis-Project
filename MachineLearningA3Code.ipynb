{
 "cells": [
  {
   "cell_type": "code",
   "execution_count": 49,
   "id": "ab53e8e3",
   "metadata": {},
   "outputs": [
    {
     "name": "stdout",
     "output_type": "stream",
     "text": [
      "Collecting imblearn\n",
      "  Downloading imblearn-0.0-py2.py3-none-any.whl (1.9 kB)\n",
      "Requirement already satisfied: imbalanced-learn in c:\\users\\olism\\anaconda3\\lib\\site-packages (from imblearn) (0.10.1)\n",
      "Requirement already satisfied: numpy>=1.17.3 in c:\\users\\olism\\anaconda3\\lib\\site-packages (from imbalanced-learn->imblearn) (1.24.3)\n",
      "Requirement already satisfied: scipy>=1.3.2 in c:\\users\\olism\\anaconda3\\lib\\site-packages (from imbalanced-learn->imblearn) (1.10.1)\n",
      "Requirement already satisfied: scikit-learn>=1.0.2 in c:\\users\\olism\\anaconda3\\lib\\site-packages (from imbalanced-learn->imblearn) (1.2.2)\n",
      "Requirement already satisfied: joblib>=1.1.1 in c:\\users\\olism\\anaconda3\\lib\\site-packages (from imbalanced-learn->imblearn) (1.2.0)\n",
      "Requirement already satisfied: threadpoolctl>=2.0.0 in c:\\users\\olism\\anaconda3\\lib\\site-packages (from imbalanced-learn->imblearn) (2.2.0)\n",
      "Installing collected packages: imblearn\n",
      "Successfully installed imblearn-0.0\n"
     ]
    }
   ],
   "source": [
    "import sys\n",
    "!{sys.executable} -m pip install imblearn\n",
    "import sys\n",
    "!{sys.executable} -m pip install joblib"
   ]
  },
  {
   "cell_type": "markdown",
   "id": "d040fbdc",
   "metadata": {},
   "source": [
    "The set up"
   ]
  },
  {
   "cell_type": "code",
   "execution_count": 1,
   "id": "2b82590f",
   "metadata": {},
   "outputs": [],
   "source": [
    "import pandas as pd\n",
    "import sklearn as sk\n",
    "import sklearn.ensemble as ens\n",
    "import sklearn.metrics as metrics\n",
    "import re\n",
    "import math\n",
    "from sklearn.feature_extraction.text import CountVectorizer\n",
    "from sklearn.feature_selection import SelectKBest\n",
    "from sklearn.feature_selection import f_classif\n",
    "from sklearn.feature_selection import mutual_info_classif\n",
    "from sklearn.naive_bayes import MultinomialNB\n",
    "from sklearn.linear_model import LogisticRegression\n",
    "from sklearn.neighbors import KNeighborsClassifier\n",
    "from sklearn.model_selection import train_test_split\n",
    "from sklearn.metrics import accuracy_score\n",
    "import matplotlib.pyplot as plt\n",
    "import numpy as np\n",
    "from joblib import dump, load\n",
    "from sklearn.neural_network import MLPClassifier\n",
    "from sklearn.utils.class_weight import compute_class_weight\n",
    "from sklearn.model_selection import cross_validate\n",
    "from sklearn.utils.class_weight import compute_sample_weight \n",
    "from sklearn.model_selection import GridSearchCV\n",
    "from sklearn.tree import DecisionTreeClassifier\n",
    "from sklearn.metrics import confusion_matrix,ConfusionMatrixDisplay\n",
    "from sklearn.dummy import DummyClassifier \n"
   ]
  },
  {
   "cell_type": "code",
   "execution_count": 3,
   "id": "aef67f57",
   "metadata": {},
   "outputs": [],
   "source": [
    "# extract the training label predictions\n",
    "raw_training_data = pd.read_csv('TRAIN.csv')\n",
    "training_labels = raw_training_data['rating']\n",
    "\n",
    "# extract the validation label predictions\n",
    "raw_validation_data = pd.read_csv('VALIDATION.csv')\n",
    "validation_labels = raw_validation_data['rating']\n",
    "\n",
    "# extract the validation label predictions\n",
    "embedded_validation_data = pd.read_csv('384EMBEDDINGS_VALIDATION.csv')\n",
    "embedded_validation_data.drop(columns=embedded_validation_data.columns[0],axis=1,inplace=True)\n",
    "\n",
    "\n",
    "# get the SBERT embedded text\n",
    "embedded_training_df = pd.read_csv('384EMBEDDINGS_TRAIN.csv')\n",
    "embedded_training_df.drop(columns=embedded_training_df.columns[0],axis=1,inplace=True)\n",
    "\n",
    "\n",
    "\n",
    "embedded_testing_df = pd.read_csv('384EMBEDDINGS_TEST.csv')\n",
    "embedded_testing_df.drop(columns=embedded_testing_df.columns[0],axis=1,inplace=True)\n",
    "raw_testing_df = pd.read_csv('TEST_NO_LABELS.csv')\n"
   ]
  },
  {
   "cell_type": "markdown",
   "id": "28e51ba4",
   "metadata": {},
   "source": [
    "run for baseline model classification report"
   ]
  },
  {
   "cell_type": "code",
   "execution_count": 156,
   "id": "9484b1e7",
   "metadata": {},
   "outputs": [
    {
     "name": "stdout",
     "output_type": "stream",
     "text": [
      "              precision    recall  f1-score   support\n",
      "\n",
      "          -1       0.00      0.00      0.00         0\n",
      "           1       1.00      0.73      0.85      5500\n",
      "\n",
      "    accuracy                           0.73      5500\n",
      "   macro avg       0.50      0.37      0.42      5500\n",
      "weighted avg       1.00      0.73      0.85      5500\n",
      "\n"
     ]
    },
    {
     "name": "stderr",
     "output_type": "stream",
     "text": [
      "C:\\Users\\olism\\anaconda3\\Lib\\site-packages\\sklearn\\metrics\\_classification.py:1344: UndefinedMetricWarning: Recall and F-score are ill-defined and being set to 0.0 in labels with no true samples. Use `zero_division` parameter to control this behavior.\n",
      "  _warn_prf(average, modifier, msg_start, len(result))\n",
      "C:\\Users\\olism\\anaconda3\\Lib\\site-packages\\sklearn\\metrics\\_classification.py:1344: UndefinedMetricWarning: Recall and F-score are ill-defined and being set to 0.0 in labels with no true samples. Use `zero_division` parameter to control this behavior.\n",
      "  _warn_prf(average, modifier, msg_start, len(result))\n",
      "C:\\Users\\olism\\anaconda3\\Lib\\site-packages\\sklearn\\metrics\\_classification.py:1344: UndefinedMetricWarning: Recall and F-score are ill-defined and being set to 0.0 in labels with no true samples. Use `zero_division` parameter to control this behavior.\n",
      "  _warn_prf(average, modifier, msg_start, len(result))\n"
     ]
    }
   ],
   "source": [
    "dummy_most_freq = DummyClassifier()\n",
    "dummy_most_freq.fit(raw_training_data,training_labels)\n",
    "dummy_predictions = dummy_most_freq.predict(raw_validation_data)\n",
    "print(metrics.classification_report(dummy_predictions,validation_labels))"
   ]
  },
  {
   "cell_type": "code",
   "execution_count": 230,
   "id": "282b8176",
   "metadata": {},
   "outputs": [
    {
     "name": "stdout",
     "output_type": "stream",
     "text": [
      "[1.77273477 0.69642741]\n"
     ]
    },
    {
     "data": {
      "text/plain": [
       "['tree_gs']"
      ]
     },
     "execution_count": 230,
     "metadata": {},
     "output_type": "execute_result"
    }
   ],
   "source": [
    "\"\"\"The goal of this section is to create a decsion tree classifier for the SBERT data with parameter tuning\n",
    "grid search will be applied to tree depth and min samples leaf, furthermore, we will balance the classes\"\"\"\n",
    "\n",
    "param_grid = {'max_depth':[10,20,50,100],'min_impurity_decrease':[0.00005,0.0001,0.001,0.01], 'min_samples_leaf':[1,2,4,10,20]}\n",
    "\"\"\"The parameters we should search over: tree depth, min samples leaf\"\"\"\n",
    "balanced_tree = DecisionTreeClassifier(class_weight=class_weights)\n",
    "gs_tree = GridSearchCV(balanced_tree,param_grid=param_grid)\n",
    "dump(gs_tree.fit(embedded_training_df,training_labels),'tree_gs')\n"
   ]
  },
  {
   "cell_type": "code",
   "execution_count": 239,
   "id": "d57bf5c0",
   "metadata": {},
   "outputs": [
    {
     "name": "stdout",
     "output_type": "stream",
     "text": [
      "GridSearchCV(estimator=DecisionTreeClassifier(class_weight={-1: 1.7727347679116168,\n",
      "                                                            1: 0.6964274146531062}),\n",
      "             param_grid={'max_depth': [10, 20, 50, 100],\n",
      "                         'min_impurity_decrease': [5e-05, 0.0001, 0.001, 0.01],\n",
      "                         'min_samples_leaf': [1, 2, 4, 10, 20]})\n",
      "{'max_depth': 100, 'min_impurity_decrease': 0.0001, 'min_samples_leaf': 2}\n"
     ]
    }
   ],
   "source": [
    "print(load('tree_gs'))\n",
    "gs_results = load('tree_gs')\n",
    "print(gs_results.best_params_)\n",
    "best_params = gs_results.best_params_\n",
    "optimal_tree = DecisionTreeClassifier(class_weight=class_weights,**best_params)\n",
    "bal_tree_model = optimal_tree.fit(embedded_training_df,training_labels)\n",
    "\n"
   ]
  },
  {
   "cell_type": "code",
   "execution_count": 240,
   "id": "cf931e01",
   "metadata": {},
   "outputs": [
    {
     "name": "stdout",
     "output_type": "stream",
     "text": [
      "              precision    recall  f1-score   support\n",
      "\n",
      "          -1       0.79      0.63      0.70      1815\n",
      "           1       0.84      0.92      0.87      3685\n",
      "\n",
      "    accuracy                           0.82      5500\n",
      "   macro avg       0.81      0.77      0.79      5500\n",
      "weighted avg       0.82      0.82      0.82      5500\n",
      "\n"
     ]
    }
   ],
   "source": [
    "dump(bal_tree_model,'bal_tree_model')\n",
    "print(metrics.classification_report(bal_tree_model.predict(embedded_validation_data),validation_labels))"
   ]
  },
  {
   "cell_type": "markdown",
   "id": "66b8abf9",
   "metadata": {},
   "source": [
    "Run these three cells to see the classification report for random forest"
   ]
  },
  {
   "cell_type": "code",
   "execution_count": 157,
   "id": "48e6e626",
   "metadata": {},
   "outputs": [
    {
     "data": {
      "text/plain": [
       "['random_forest_model.joblib']"
      ]
     },
     "execution_count": 157,
     "metadata": {},
     "output_type": "execute_result"
    }
   ],
   "source": [
    "\"\"\"This is for training a random forest model\"\"\"\n",
    "# instantiate the random forest object\n",
    "random_forest_for_embedded = sk.ensemble.RandomForestClassifier(n_estimators=100,class_weight='balanced',min_impurity_decrease=0.00001,min_samples_leaf=2)\n",
    "# train the model\n",
    "random_forest_model = random_forest_for_embedded.fit(embedded_training_df, training_labels)\n",
    "dump(random_forest_model,'random_forest_model.joblib')\n",
    "\n",
    "\n"
   ]
  },
  {
   "cell_type": "code",
   "execution_count": 160,
   "id": "74670667",
   "metadata": {},
   "outputs": [],
   "source": [
    "load_random_forest_model = load('random_forest_model.joblib')\n",
    "# predict\n",
    "random_forest_predictions = load_random_forest_model.predict(embedded_validation_data)\n",
    "   "
   ]
  },
  {
   "cell_type": "code",
   "execution_count": 161,
   "id": "00e05f1f",
   "metadata": {
    "scrolled": true
   },
   "outputs": [
    {
     "name": "stdout",
     "output_type": "stream",
     "text": [
      "              precision    recall  f1-score   support\n",
      "\n",
      "          -1       0.78      0.80      0.79      1430\n",
      "           1       0.93      0.92      0.93      4070\n",
      "\n",
      "    accuracy                           0.89      5500\n",
      "   macro avg       0.86      0.86      0.86      5500\n",
      "weighted avg       0.89      0.89      0.89      5500\n",
      "\n"
     ]
    }
   ],
   "source": [
    "# get classification report \n",
    "random_forest_classification_report = metrics.classification_report(random_forest_predictions, validation_labels)\n",
    "print(random_forest_classification_report)\n",
    "        "
   ]
  },
  {
   "cell_type": "markdown",
   "id": "508791c3",
   "metadata": {},
   "source": [
    "The next two cells produce the classification report and confusion matrix for Naive bayes"
   ]
  },
  {
   "cell_type": "code",
   "execution_count": 162,
   "id": "1d8f2390",
   "metadata": {},
   "outputs": [
    {
     "name": "stdout",
     "output_type": "stream",
     "text": [
      "       Unnamed: 0  dr-id-adjusted  dr_id_gender  \\\n",
      "0               7               2           1.0   \n",
      "1               8               3           0.0   \n",
      "2              17               7           1.0   \n",
      "3              20               8           1.0   \n",
      "4              24              11           1.0   \n",
      "...           ...             ...           ...   \n",
      "24253       19769           14204           1.0   \n",
      "24254        7690            4766           0.0   \n",
      "24255       21138           15668           1.0   \n",
      "24256       33518           25442           1.0   \n",
      "24257        6768            4221           1.0   \n",
      "\n",
      "                                     review-text-cleaned  rating  \n",
      "0      I have been to this doctor twice and both time...      -1  \n",
      "1      I had the absolute worst experience with this ...      -1  \n",
      "2      He was horrible! I brought my daughter in with...      -1  \n",
      "3      He did surgery on my father after he started t...      -1  \n",
      "4      When I was a child, he was able to correct my ...      -1  \n",
      "...                                                  ...     ...  \n",
      "24253  Very Caring,experienced,Freindly,...All our to...       1  \n",
      "24254  Dr. Kelley is very approachable and helpful. I...       1  \n",
      "24255  Had my eyelids done and botox.  He was very ni...       1  \n",
      "24256  A truly great physician both in knowledge as w...       1  \n",
      "24257  Dr. Reedy has an excellent staff, and is the o...       1  \n",
      "\n",
      "[24258 rows x 5 columns]\n"
     ]
    }
   ],
   "source": [
    "\n",
    "# create a Naive Bayes model as described by Greaves et al without prior polarity because of resource constraints \n",
    "greaves_training_df = raw_training_data\n",
    "\n",
    "from imblearn.under_sampling import RandomUnderSampler\n",
    "rs = RandomUnderSampler(random_state=0)\n",
    "greaves_training_series, training_labels_resampled = rs.fit_resample(greaves_training_df,training_labels)\n",
    "print(greaves_training_series)\n",
    "# convert text to lower case\n",
    "greaves_training_series = greaves_training_series['review-text-cleaned'].apply(str.lower)\n",
    "\n",
    "\n",
    "\n",
    "text_list = [(lambda text: re.sub(r'[^\\w\\s]','',text))(text) for text in greaves_training_series]\n",
    "\n",
    "\n",
    "\n",
    "\n",
    "# create bag of words\n",
    "count_vectorizer = CountVectorizer(ngram_range=(1,3),max_features=15000)\n",
    "count_vectorizer.fit(text_list)\n",
    "BOW_transformer = count_vectorizer.fit(text_list)\n",
    "BOW_reduced = BOW_transformer.transform(text_list)\n",
    "\n",
    "# select the 5000 best features using information gain\n",
    "BOW_reducer = SelectKBest(mutual_info_classif,k=10000).fit(BOW_reduced, training_labels_resampled)\n",
    "reduced_BOW = BOW_reducer.transform(BOW_reduced)\n",
    "# create multinomial naive bayes model\n",
    "multinomialNB = MultinomialNB()\n",
    "MNB_model = multinomialNB.fit(reduced_BOW, training_labels_resampled)\n",
    "\n",
    "\n",
    "\n",
    "\n"
   ]
  },
  {
   "cell_type": "code",
   "execution_count": 163,
   "id": "34b31679",
   "metadata": {},
   "outputs": [
    {
     "data": {
      "image/png": "[encoded data removed]",
      "text/plain": [
       "<Figure size 640x480 with 2 Axes>"
      ]
     },
     "metadata": {},
     "output_type": "display_data"
    },
    {
     "name": "stdout",
     "output_type": "stream",
     "text": [
      "              precision    recall  f1-score   support\n",
      "\n",
      "          -1       0.96      0.76      0.85      1835\n",
      "           1       0.89      0.98      0.94      3665\n",
      "\n",
      "    accuracy                           0.91      5500\n",
      "   macro avg       0.92      0.87      0.89      5500\n",
      "weighted avg       0.91      0.91      0.91      5500\n",
      "\n"
     ]
    }
   ],
   "source": [
    "# we need to process the validation data in the same way inorder to test the model \n",
    "\n",
    "# convert all text to lower case \n",
    "greaves_validation_series = raw_validation_data['review-text-cleaned'].apply(str.lower)\n",
    "# remove punctuation \n",
    "validation_text_list = [re.sub(r'[^\\w\\s]','',text) for text in greaves_validation_series]\n",
    "# use same countVectorizer \n",
    "vectors = count_vectorizer.transform(validation_text_list)\n",
    "# use the previously fitted selection model to reduce the BOW\n",
    "reduced_vectors = BOW_reducer.transform(vectors)\n",
    "# test the model\n",
    "MNB_predictions = MNB_model.predict(reduced_vectors)\n",
    "# print the classification report\n",
    "classification_report_greaves = metrics.classification_report(MNB_predictions, validation_labels)\n",
    "cm1 = confusion_matrix(validation_labels,MNB_predictions)\n",
    "cm1 = cm1/cm1.astype(float).sum(axis=1)\n",
    "cmd = ConfusionMatrixDisplay(confusion_matrix=cm1,display_labels=MNB_model.classes_)\n",
    "cmd.plot()\n",
    "plt.title(\"Proportionate confusion matrix for Multinomial Naive Bayes classifier\")\n",
    "plt.show()\n",
    "print(classification_report_greaves)"
   ]
  },
  {
   "cell_type": "code",
   "execution_count": 79,
   "id": "a2b633d2",
   "metadata": {},
   "outputs": [
    {
     "name": "stdout",
     "output_type": "stream",
     "text": [
      "      0\n",
      "0     1\n",
      "1     1\n",
      "2    -1\n",
      "3     1\n",
      "4     1\n",
      "...  ..\n",
      "5509 -1\n",
      "5510  1\n",
      "5511  1\n",
      "5512 -1\n",
      "5513  1\n",
      "\n",
      "[5514 rows x 1 columns]\n"
     ]
    }
   ],
   "source": [
    "greaves_testing_df = raw_testing_df\n",
    "greaves_testing_series = greaves_testing_df['review-text-cleaned'].apply(str.lower)\n",
    "test_text_list = [(lambda test_text: re.sub(r'[^\\w\\s]','',test_text))(test_text) for test_text in greaves_testing_series]\n",
    "testing_BOW_reduced_by_Count = BOW_transformer.transform(test_text_list)\n",
    "k_best_BOW_test = BOW_reducer.transform(testing_BOW_reduced_by_Count)                                        \n",
    "predictions = pd.DataFrame(MNB_model.predict(k_best_BOW_test))\n",
    "predictions.rename_axis(index='id',columns=['rating'])\n",
    "print(predictions)\n",
    "predictions.to_csv('predictions')"
   ]
  },
  {
   "cell_type": "markdown",
   "id": "1ff0a778",
   "metadata": {},
   "source": [
    "This cell creates the classification report for logistic regression "
   ]
  },
  {
   "cell_type": "code",
   "execution_count": 164,
   "id": "fbb83d40",
   "metadata": {},
   "outputs": [
    {
     "name": "stdout",
     "output_type": "stream",
     "text": [
      "              precision    recall  f1-score   support\n",
      "\n",
      "          -1       0.94      0.77      0.85      1804\n",
      "           1       0.90      0.98      0.93      3696\n",
      "\n",
      "    accuracy                           0.91      5500\n",
      "   macro avg       0.92      0.87      0.89      5500\n",
      "weighted avg       0.91      0.91      0.91      5500\n",
      "\n"
     ]
    }
   ],
   "source": [
    "# implement logstic regression for embeddings\n",
    "logstic_regression_instance_for_embeddings = LogisticRegression(class_weight='balanced',max_iter=100)\n",
    "embeddings_log_regression_model = logstic_regression_instance_for_embeddings.fit(embedded_training_df,training_labels)\n",
    "\n",
    "log_predictions = embeddings_log_regression_model.predict(embedded_validation_data)\n",
    "print(metrics.classification_report(log_predictions,validation_labels))"
   ]
  },
  {
   "cell_type": "code",
   "execution_count": 39,
   "id": "b187c526",
   "metadata": {},
   "outputs": [
    {
     "name": "stderr",
     "output_type": "stream",
     "text": [
      "C:\\Users\\olism\\anaconda3\\Lib\\site-packages\\sklearn\\linear_model\\_logistic.py:458: ConvergenceWarning: lbfgs failed to converge (status=1):\n",
      "STOP: TOTAL NO. of ITERATIONS REACHED LIMIT.\n",
      "\n",
      "Increase the number of iterations (max_iter) or scale the data as shown in:\n",
      "    https://scikit-learn.org/stable/modules/preprocessing.html\n",
      "Please also refer to the documentation for alternative solver options:\n",
      "    https://scikit-learn.org/stable/modules/linear_model.html#logistic-regression\n",
      "  n_iter_i = _check_optimize_result(\n",
      "C:\\Users\\olism\\anaconda3\\Lib\\site-packages\\sklearn\\linear_model\\_logistic.py:458: ConvergenceWarning: lbfgs failed to converge (status=1):\n",
      "STOP: TOTAL NO. of ITERATIONS REACHED LIMIT.\n",
      "\n",
      "Increase the number of iterations (max_iter) or scale the data as shown in:\n",
      "    https://scikit-learn.org/stable/modules/preprocessing.html\n",
      "Please also refer to the documentation for alternative solver options:\n",
      "    https://scikit-learn.org/stable/modules/linear_model.html#logistic-regression\n",
      "  n_iter_i = _check_optimize_result(\n",
      "C:\\Users\\olism\\anaconda3\\Lib\\site-packages\\sklearn\\linear_model\\_logistic.py:458: ConvergenceWarning: lbfgs failed to converge (status=1):\n",
      "STOP: TOTAL NO. of ITERATIONS REACHED LIMIT.\n",
      "\n",
      "Increase the number of iterations (max_iter) or scale the data as shown in:\n",
      "    https://scikit-learn.org/stable/modules/preprocessing.html\n",
      "Please also refer to the documentation for alternative solver options:\n",
      "    https://scikit-learn.org/stable/modules/linear_model.html#logistic-regression\n",
      "  n_iter_i = _check_optimize_result(\n",
      "C:\\Users\\olism\\anaconda3\\Lib\\site-packages\\sklearn\\linear_model\\_logistic.py:458: ConvergenceWarning: lbfgs failed to converge (status=1):\n",
      "STOP: TOTAL NO. of ITERATIONS REACHED LIMIT.\n",
      "\n",
      "Increase the number of iterations (max_iter) or scale the data as shown in:\n",
      "    https://scikit-learn.org/stable/modules/preprocessing.html\n",
      "Please also refer to the documentation for alternative solver options:\n",
      "    https://scikit-learn.org/stable/modules/linear_model.html#logistic-regression\n",
      "  n_iter_i = _check_optimize_result(\n",
      "C:\\Users\\olism\\anaconda3\\Lib\\site-packages\\sklearn\\linear_model\\_logistic.py:458: ConvergenceWarning: lbfgs failed to converge (status=1):\n",
      "STOP: TOTAL NO. of ITERATIONS REACHED LIMIT.\n",
      "\n",
      "Increase the number of iterations (max_iter) or scale the data as shown in:\n",
      "    https://scikit-learn.org/stable/modules/preprocessing.html\n",
      "Please also refer to the documentation for alternative solver options:\n",
      "    https://scikit-learn.org/stable/modules/linear_model.html#logistic-regression\n",
      "  n_iter_i = _check_optimize_result(\n",
      "C:\\Users\\olism\\anaconda3\\Lib\\site-packages\\sklearn\\linear_model\\_logistic.py:458: ConvergenceWarning: lbfgs failed to converge (status=1):\n",
      "STOP: TOTAL NO. of ITERATIONS REACHED LIMIT.\n",
      "\n",
      "Increase the number of iterations (max_iter) or scale the data as shown in:\n",
      "    https://scikit-learn.org/stable/modules/preprocessing.html\n",
      "Please also refer to the documentation for alternative solver options:\n",
      "    https://scikit-learn.org/stable/modules/linear_model.html#logistic-regression\n",
      "  n_iter_i = _check_optimize_result(\n",
      "C:\\Users\\olism\\anaconda3\\Lib\\site-packages\\sklearn\\linear_model\\_logistic.py:458: ConvergenceWarning: lbfgs failed to converge (status=1):\n",
      "STOP: TOTAL NO. of ITERATIONS REACHED LIMIT.\n",
      "\n",
      "Increase the number of iterations (max_iter) or scale the data as shown in:\n",
      "    https://scikit-learn.org/stable/modules/preprocessing.html\n",
      "Please also refer to the documentation for alternative solver options:\n",
      "    https://scikit-learn.org/stable/modules/linear_model.html#logistic-regression\n",
      "  n_iter_i = _check_optimize_result(\n"
     ]
    },
    {
     "data": {
      "text/plain": [
       "['gs_logr.joblib']"
      ]
     },
     "execution_count": 39,
     "metadata": {},
     "output_type": "execute_result"
    }
   ],
   "source": [
    "# tune the log regression\n",
    "param_grid = {'max_iter': [50,70]}\n",
    "gs = GridSearchCV(\n",
    "    logstic_regression_instance_for_embeddings,\n",
    "    param_grid,\n",
    "    cv=3\n",
    "                 )\n",
    "dump(gs.fit(embedded_training_df,training_labels),'gs_logr.joblib')\n"
   ]
  },
  {
   "cell_type": "code",
   "execution_count": 41,
   "id": "bfa563e4",
   "metadata": {},
   "outputs": [
    {
     "name": "stdout",
     "output_type": "stream",
     "text": [
      "{'max_iter': 70}\n"
     ]
    }
   ],
   "source": [
    "gs_lr_results = load('gs_logr.joblib')\n",
    "print(gs_lr_results.best_params_)"
   ]
  },
  {
   "cell_type": "markdown",
   "id": "503ba572",
   "metadata": {},
   "source": [
    "only need first and third knn cell to see result"
   ]
  },
  {
   "cell_type": "code",
   "execution_count": 208,
   "id": "b48b8dd0",
   "metadata": {},
   "outputs": [],
   "source": [
    "# we are going to have to create a new validation dataset for KNN hyperparameter selection\n",
    "X_train,X_validate,y_train,y_validate = train_test_split(\n",
    "    embedded_training_df, training_labels, random_state=42\n",
    ")"
   ]
  },
  {
   "cell_type": "code",
   "execution_count": null,
   "id": "2d5444a6",
   "metadata": {},
   "outputs": [],
   "source": [
    "# implement KNN for embeddings\n",
    "\n",
    "\n",
    "# train knn for k = 1 to k = 30\n",
    "knn_error_rates = []\n",
    "K = 31\n",
    "for k in range(1,K):\n",
    "    # get instance\n",
    "    knn_instance = KNeighborsClassifier(n_neighbors=k,metric='cosine')\n",
    "    # train instance\n",
    "    knn_model = knn_instance.fit(X_train, y_train)\n",
    "    # get predictions\n",
    "    knn_predictions = knn_model.predict(X_validate)\n",
    "    knn_error_rates.append(1-accuracy_score(y_validate,knn_predictions))\n",
    "xpoints = np.array([x for x in range(1,K)])\n",
    "ypoints = knn_error_rates\n",
    "plt.plot(xpoints,ypoints)\n",
    "plt.show()\n",
    "    "
   ]
  },
  {
   "cell_type": "code",
   "execution_count": 169,
   "id": "e9a03acc",
   "metadata": {},
   "outputs": [
    {
     "name": "stdout",
     "output_type": "stream",
     "text": [
      "The best k: 12 produces an error of 0.11552413728955446\n",
      "              precision    recall  f1-score   support\n",
      "\n",
      "          -1       0.73      0.83      0.78      1292\n",
      "           1       0.95      0.91      0.93      4208\n",
      "\n",
      "    accuracy                           0.89      5500\n",
      "   macro avg       0.84      0.87      0.85      5500\n",
      "weighted avg       0.90      0.89      0.89      5500\n",
      "\n"
     ]
    }
   ],
   "source": [
    "min_error = min(knn_error_rates)\n",
    "optimal_k = knn_error_rates.index(min_error) + 1\n",
    "print(\"The best k: \" + str(optimal_k) + \" produces an error of \" + str(min_error)) \n",
    "optimal_knn_instance = KNeighborsClassifier(n_neighbors=12,metric='cosine')\n",
    "optimal_knn_model = optimal_knn_instance.fit(X_train,y_train)\n",
    "optimal_knn_predictions = optimal_knn_instance.predict(embedded_validation_data)\n",
    "print(metrics.classification_report(optimal_knn_predictions, validation_labels))"
   ]
  },
  {
   "cell_type": "markdown",
   "id": "04faa775",
   "metadata": {},
   "source": [
    "Run the next cells to see MLP results, except the second cell, it is unecessary"
   ]
  },
  {
   "cell_type": "code",
   "execution_count": 209,
   "id": "92050086",
   "metadata": {},
   "outputs": [],
   "source": [
    "# undersample the data\n",
    "from imblearn.under_sampling import RandomUnderSampler\n",
    "rs = RandomUnderSampler(random_state=0)\n",
    "X_resampled, y_resampled = rs.fit_resample(embedded_training_df,training_labels)\n",
    "NN_instance = MLPClassifier(max_iter=2000)"
   ]
  },
  {
   "cell_type": "code",
   "execution_count": null,
   "id": "c2ef5451",
   "metadata": {},
   "outputs": [],
   "source": [
    "\n",
    "# 386,258,174\n",
    "hidden_layers = [[258,174],[[100,100,100,50]]]\n",
    "alphas = [np.power(10.0, i) for i in range(-3,2)]\n",
    "\n",
    "gs_nn = GridSearchCV(\n",
    "    param_grid={'max_iter':[500,1000],'alpha': alphas,'hidden_layer_sizes':hidden_layers},\n",
    "    estimator=NN_instance,\n",
    "    cv=3,\n",
    "    n_jobs=2,\n",
    "    verbose=1\n",
    ")\n",
    "\n",
    "dump(gs_nn.fit(X_resampled,y_resampled),'gsNN.joblib')"
   ]
  },
  {
   "cell_type": "code",
   "execution_count": 276,
   "id": "934ebd65",
   "metadata": {},
   "outputs": [
    {
     "name": "stdout",
     "output_type": "stream",
     "text": [
      "{'alpha': 1.0, 'hidden_layer_sizes': [258, 174], 'max_iter': 1000}\n",
      "Iteration 1, loss = 0.61246502\n",
      "Iteration 2, loss = 0.27929063\n",
      "Iteration 3, loss = 0.26543288\n",
      "Iteration 4, loss = 0.25837942\n",
      "Iteration 5, loss = 0.25235519\n",
      "Iteration 6, loss = 0.25280845\n",
      "Iteration 7, loss = 0.25681337\n",
      "Iteration 8, loss = 0.25086868\n",
      "Iteration 9, loss = 0.24891273\n",
      "Iteration 10, loss = 0.24797996\n",
      "Iteration 11, loss = 0.25027719\n",
      "Iteration 12, loss = 0.24771748\n",
      "Iteration 13, loss = 0.24694056\n",
      "Iteration 14, loss = 0.25111389\n",
      "Iteration 15, loss = 0.25693107\n",
      "Iteration 16, loss = 0.24667985\n",
      "Iteration 17, loss = 0.24766351\n",
      "Iteration 18, loss = 0.24754472\n",
      "Iteration 19, loss = 0.24630170\n",
      "Iteration 20, loss = 0.24746715\n",
      "Iteration 21, loss = 0.24517180\n",
      "Iteration 22, loss = 0.24472157\n",
      "Iteration 23, loss = 0.24746615\n",
      "Iteration 24, loss = 0.24595340\n",
      "Iteration 25, loss = 0.24437762\n",
      "Iteration 26, loss = 0.24573658\n",
      "Iteration 27, loss = 0.24942423\n",
      "Iteration 28, loss = 0.24458872\n",
      "Iteration 29, loss = 0.24403532\n",
      "Iteration 30, loss = 0.24416670\n",
      "Iteration 31, loss = 0.24406890\n",
      "Iteration 32, loss = 0.24405810\n",
      "Iteration 33, loss = 0.24849184\n",
      "Iteration 34, loss = 0.24345340\n",
      "Iteration 35, loss = 0.24331719\n",
      "Iteration 36, loss = 0.24300308\n",
      "Iteration 37, loss = 0.24309837\n",
      "Iteration 38, loss = 0.24626108\n",
      "Iteration 39, loss = 0.24384427\n",
      "Iteration 40, loss = 0.24229180\n",
      "Iteration 41, loss = 0.24463733\n",
      "Iteration 42, loss = 0.24506469\n",
      "Iteration 43, loss = 0.24235643\n",
      "Iteration 44, loss = 0.24262591\n",
      "Iteration 45, loss = 0.24308369\n",
      "Iteration 46, loss = 0.24575697\n",
      "Iteration 47, loss = 0.24276274\n",
      "Iteration 48, loss = 0.24402934\n",
      "Iteration 49, loss = 0.24307612\n",
      "Iteration 50, loss = 0.24332976\n",
      "Iteration 51, loss = 0.24354905\n",
      "Training loss did not improve more than tol=0.000100 for 10 consecutive epochs. Stopping.\n"
     ]
    },
    {
     "data": {
      "text/plain": [
       "['NN_model_fitted.joblib']"
      ]
     },
     "execution_count": 276,
     "metadata": {},
     "output_type": "execute_result"
    }
   ],
   "source": [
    "NNgs_result = load('gsNN.joblib')\n",
    "best_params = NNgs_result.best_params_\n",
    "print(best_params)\n",
    "NN_model = MLPClassifier(max_iter=2000,alpha=1,hidden_layer_sizes=[100,100,100,50],learning_rate='invscaling',verbose=True)\n",
    "fitted_NN = NN_model.fit(embedded_training_df,training_labels)\n",
    "dump(fitted_NN,'NN_model_fitted.joblib')"
   ]
  },
  {
   "cell_type": "code",
   "execution_count": 277,
   "id": "76e50f9b",
   "metadata": {
    "scrolled": true
   },
   "outputs": [
    {
     "name": "stdout",
     "output_type": "stream",
     "text": [
      "              precision    recall  f1-score   support\n",
      "\n",
      "          -1       0.90      0.80      0.85      1634\n",
      "           1       0.92      0.96      0.94      3866\n",
      "\n",
      "    accuracy                           0.92      5500\n",
      "   macro avg       0.91      0.88      0.90      5500\n",
      "weighted avg       0.91      0.92      0.91      5500\n",
      "\n"
     ]
    }
   ],
   "source": [
    "NN_predictions = fitted_NN.predict(embedded_validation_data)\n",
    "print(metrics.classification_report(NN_predictions,validation_labels))"
   ]
  },
  {
   "cell_type": "code",
   "execution_count": null,
   "id": "3a4352a4",
   "metadata": {},
   "outputs": [],
   "source": [
    "scorers = {\n",
    "    'accuracy':'accuracy',\n",
    "    'f1_macro':'f1_macro',\n",
    "    'precision_macro':'precision_macro',\n",
    "    'recall_macro':'recall_macro'\n",
    "          }\n",
    "print(cross_validate())\n"
   ]
  },
  {
   "cell_type": "code",
   "execution_count": 242,
   "id": "cdb00765",
   "metadata": {},
   "outputs": [
    {
     "data": {
      "image/png": "[encoded data removed]",
      "text/plain": [
       "<Figure size 640x480 with 2 Axes>"
      ]
     },
     "metadata": {},
     "output_type": "display_data"
    }
   ],
   "source": [
    "\n",
    "nn_predictions = NN_model.predict(embedded_testing_df)\n",
    "nn_predictions_df = pd.DataFrame(nn_predictions)\n",
    "nn_predictions_df.to_csv('nn_predictions.csv')\n",
    "cm1 = confusion_matrix(validation_labels,NN_predictions)\n",
    "cm1 = cm1/cm1.astype(float).sum(axis=1)\n",
    "cmd = ConfusionMatrixDisplay(confusion_matrix=cm1,display_labels=NN_model.classes_)\n",
    "cmd.plot()\n",
    "plt.title(\"Proportionate confusion matrix for MLP classifier\")\n",
    "plt.show()"
   ]
  }
 ],
 "metadata": {
  "kernelspec": {
   "display_name": "Python 3 (ipykernel)",
   "language": "python",
   "name": "python3"
  },
  "language_info": {
   "codemirror_mode": {
    "name": "ipython",
    "version": 3
   },
   "file_extension": ".py",
   "mimetype": "text/x-python",
   "name": "python",
   "nbconvert_exporter": "python",
   "pygments_lexer": "ipython3",
   "version": "3.11.3"
  }
 },
 "nbformat": 4,
 "nbformat_minor": 5
}
